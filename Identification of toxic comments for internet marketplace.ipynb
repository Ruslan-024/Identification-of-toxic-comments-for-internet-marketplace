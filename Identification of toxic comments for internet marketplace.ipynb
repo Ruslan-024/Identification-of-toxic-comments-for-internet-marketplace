{
 "cells": [
  {
   "cell_type": "markdown",
   "metadata": {},
   "source": [
    "# Project description"
   ]
  },
  {
   "cell_type": "markdown",
   "metadata": {},
   "source": [
    "Project for marketplace «Викишоп»"
   ]
  },
  {
   "cell_type": "markdown",
   "metadata": {},
   "source": [
    "Internet marketplace «Викишоп» starts a new service. Now users can edit and supplement product descriptions, just like in wiki communities. Clients propose their edits and comment on the changes of other users. The store needs a tool that will look for toxic comments and submit them for moderation.\n",
    "\n",
    "**Project execution plan**\n",
    "\n",
    "1. Download and prepare data.\n",
    "2. Train different models.\n",
    "3. Draw conclusions.\n",
    "\n",
    "\n",
    "**Data description**\n",
    "\n",
    "Data locates in `toxic comments.csv` file. The *text* column contains the text of the comment, and *toxic* is the target attribute."
   ]
  },
  {
   "cell_type": "markdown",
   "metadata": {},
   "source": [
    "## Data download"
   ]
  },
  {
   "cell_type": "code",
   "execution_count": 1,
   "metadata": {},
   "outputs": [
    {
     "name": "stderr",
     "output_type": "stream",
     "text": [
      "[nltk_data] Downloading package wordnet to\n",
      "[nltk_data]     C:\\Users\\Рус\\AppData\\Roaming\\nltk_data...\n",
      "[nltk_data]   Package wordnet is already up-to-date!\n"
     ]
    }
   ],
   "source": [
    "from nltk.stem.wordnet import WordNetLemmatizer\n",
    "import pandas as pd\n",
    "import nltk\n",
    "nltk.download('wordnet')\n",
    "import re\n",
    "import numpy as np\n",
    "import lightgbm as lgb\n",
    "\n",
    "from nltk.corpus import stopwords as nltk_stopwords\n",
    "from sklearn.feature_extraction.text import CountVectorizer, TfidfVectorizer # < напишите код здесь >\n",
    "from sklearn.linear_model import LogisticRegression\n",
    "from sklearn.model_selection import train_test_split\n",
    "from sklearn.metrics import accuracy_score\n",
    "from sklearn.metrics import f1_score\n",
    "from sklearn.preprocessing import StandardScaler\n",
    "from sklearn.ensemble import RandomForestClassifier\n",
    "from lightgbm import LGBMClassifier\n",
    "from sklearn.model_selection import GridSearchCV\n",
    "from sklearn.preprocessing import OrdinalEncoder\n",
    "from sklearn.neighbors import KNeighborsClassifier"
   ]
  },
  {
   "cell_type": "code",
   "execution_count": 2,
   "metadata": {},
   "outputs": [],
   "source": [
    "df = pd.read_csv(r'C:\\Users\\Рус\\Desktop\\python\\Новая папка\\toxic_comments.csv')"
   ]
  },
  {
   "cell_type": "markdown",
   "metadata": {},
   "source": [
    "# Preprocessing"
   ]
  },
  {
   "cell_type": "code",
   "execution_count": 3,
   "metadata": {},
   "outputs": [
    {
     "name": "stdout",
     "output_type": "stream",
     "text": [
      "<class 'pandas.core.frame.DataFrame'>\n",
      "RangeIndex: 159571 entries, 0 to 159570\n",
      "Data columns (total 3 columns):\n",
      " #   Column      Non-Null Count   Dtype \n",
      "---  ------      --------------   ----- \n",
      " 0   Unnamed: 0  159571 non-null  int64 \n",
      " 1   text        159571 non-null  object\n",
      " 2   toxic       159571 non-null  int64 \n",
      "dtypes: int64(2), object(1)\n",
      "memory usage: 3.7+ MB\n"
     ]
    }
   ],
   "source": [
    "df.info()"
   ]
  },
  {
   "cell_type": "markdown",
   "metadata": {},
   "source": [
    "There are no gaps, the formats are correct."
   ]
  },
  {
   "cell_type": "code",
   "execution_count": 4,
   "metadata": {},
   "outputs": [
    {
     "data": {
      "text/plain": [
       "0    143346\n",
       "1     16225\n",
       "Name: toxic, dtype: int64"
      ]
     },
     "execution_count": 4,
     "metadata": {},
     "output_type": "execute_result"
    }
   ],
   "source": [
    "df['toxic'].value_counts()"
   ]
  },
  {
   "cell_type": "markdown",
   "metadata": {},
   "source": [
    "Strong class imbalance"
   ]
  },
  {
   "cell_type": "markdown",
   "metadata": {},
   "source": [
    "I will make a function for lemmatization and removal of extra characters."
   ]
  },
  {
   "cell_type": "code",
   "execution_count": 5,
   "metadata": {},
   "outputs": [
    {
     "name": "stdout",
     "output_type": "stream",
     "text": [
      "Explanation Why the edits made under my username Hardcore Metallica Fan were reverted They weren t vandalism just closure on some GAs after I voted at New York Dolls FAC And please don t remove the template from the talk page since I m retired now\n"
     ]
    }
   ],
   "source": [
    "lemmatizer = WordNetLemmatizer()\n",
    "def lemmatize(sentence):\n",
    "    text = re.sub(r'[^a-zA-Z]', ' ', sentence)\n",
    "    word_list = nltk.word_tokenize(text)\n",
    "    lemmatized_output = \" \".join([lemmatizer.lemmatize(w) for w in word_list])\n",
    "    return \" \".join(lemmatized_output.split())\n",
    "\n",
    "df['text_final'] = df['text'].apply(lemmatize)\n",
    "\n",
    "print(df['text_final'][0])"
   ]
  },
  {
   "cell_type": "markdown",
   "metadata": {},
   "source": [
    "Dividing the data into samples."
   ]
  },
  {
   "cell_type": "code",
   "execution_count": 6,
   "metadata": {},
   "outputs": [],
   "source": [
    "df_train, df_test = train_test_split(df, test_size=0.2, random_state=12345)\n",
    "df_train_target = df_train['toxic']\n",
    "df_test_target = df_test['toxic']\n",
    "df_train_features = df_train.drop(['toxic'], axis = 1)\n",
    "df_test_features = df_test.drop(['toxic'], axis = 1)"
   ]
  },
  {
   "cell_type": "markdown",
   "metadata": {},
   "source": [
    "Converting to unicode, loading stop words."
   ]
  },
  {
   "cell_type": "code",
   "execution_count": 7,
   "metadata": {},
   "outputs": [
    {
     "name": "stderr",
     "output_type": "stream",
     "text": [
      "[nltk_data] Downloading package stopwords to\n",
      "[nltk_data]     C:\\Users\\Рус\\AppData\\Roaming\\nltk_data...\n",
      "[nltk_data]   Package stopwords is already up-to-date!\n"
     ]
    }
   ],
   "source": [
    "corpus_train = df_train_features['text'].values.astype('U')\n",
    "corpus_test = df_test['text'].values.astype('U')\n",
    "nltk.download('stopwords')\n",
    "stopwords = set(nltk_stopwords.words('english'))"
   ]
  },
  {
   "cell_type": "markdown",
   "metadata": {},
   "source": [
    "Vectorizing with TfidfVectorizer"
   ]
  },
  {
   "cell_type": "code",
   "execution_count": 8,
   "metadata": {},
   "outputs": [],
   "source": [
    "count_tf_idf = TfidfVectorizer(stop_words=stopwords)\n",
    "tf_idf_train = count_tf_idf.fit_transform(corpus_train)\n",
    "tf_idf_test = count_tf_idf.transform(corpus_test)"
   ]
  },
  {
   "cell_type": "code",
   "execution_count": 9,
   "metadata": {},
   "outputs": [],
   "source": [
    "count_tf_idf = TfidfVectorizer()\n",
    "tf_idf_train = count_tf_idf.fit_transform(corpus_train)\n",
    "tf_idf_test = count_tf_idf.transform(corpus_test)"
   ]
  },
  {
   "cell_type": "markdown",
   "metadata": {},
   "source": [
    "Let's test another vectorization method."
   ]
  },
  {
   "cell_type": "code",
   "execution_count": 10,
   "metadata": {},
   "outputs": [],
   "source": [
    "vectorizer = CountVectorizer(stop_words=stopwords, dtype=np.float32)\n",
    "CV_train = vectorizer.fit_transform(corpus_train)\n",
    "CV_test = vectorizer.transform(corpus_test)"
   ]
  },
  {
   "cell_type": "markdown",
   "metadata": {},
   "source": [
    "# Model training"
   ]
  },
  {
   "cell_type": "code",
   "execution_count": 11,
   "metadata": {},
   "outputs": [
    {
     "name": "stdout",
     "output_type": "stream",
     "text": [
      "LogisticRegression(max_iter=1000) 0.7702411021814006\n",
      "LogisticRegression(max_iter=1000) 0.7376835843093511\n",
      "LGBMClassifier(n_estimators=1000) 0.971304347826087\n",
      "LGBMClassifier(n_estimators=1000) 0.7829684537148768\n",
      "KNeighborsClassifier(n_neighbors=100) 0.5783586103043993\n",
      "KNeighborsClassifier(n_neighbors=100) 0.5835304235648248\n"
     ]
    }
   ],
   "source": [
    "models = [LogisticRegression(max_iter=1000),\n",
    "    lgb.LGBMClassifier(n_estimators = 1000, learning_rate = 0.1), KNeighborsClassifier(n_neighbors=100)]\n",
    "\n",
    "for i in models:\n",
    "    clf_gs = GridSearchCV(i, {}, cv=5, scoring='f1')\n",
    "    clf_gs.fit(tf_idf_train, df_train_target)\n",
    "\n",
    "    train_f1_score = f1_score(df_train_target, clf_gs.predict(tf_idf_train))\n",
    "    test_f1_score = f1_score(df_test_target, clf_gs.predict(tf_idf_test))\n",
    "    print(i, train_f1_score)\n",
    "    print(i, test_f1_score)"
   ]
  },
  {
   "cell_type": "code",
   "execution_count": 12,
   "metadata": {},
   "outputs": [
    {
     "name": "stdout",
     "output_type": "stream",
     "text": [
      "LogisticRegression(max_iter=1000) 0.9019363934154331\n",
      "LogisticRegression(max_iter=1000) 0.7609739368998628\n",
      "LGBMClassifier(n_estimators=1000) 0.9143891998682911\n",
      "LGBMClassifier(n_estimators=1000) 0.7760013752793535\n",
      "KNeighborsClassifier(n_neighbors=10) 0.411332127787824\n",
      "KNeighborsClassifier(n_neighbors=10) 0.37106299212598426\n"
     ]
    }
   ],
   "source": [
    "models = [LogisticRegression(max_iter=1000),\n",
    "    lgb.LGBMClassifier(n_estimators = 1000, learning_rate = 0.1), KNeighborsClassifier(n_neighbors=10)]\n",
    "\n",
    "for i in models:\n",
    "    clf_gs = GridSearchCV(i, {}, cv=5, scoring='f1')\n",
    "    clf_gs.fit(CV_train, df_train_target)\n",
    "\n",
    "    train_f1_score = f1_score(df_train_target, clf_gs.predict(CV_train))\n",
    "    test_f1_score = f1_score(df_test_target, clf_gs.predict(CV_test))\n",
    "    print(i, train_f1_score)\n",
    "    print(i, test_f1_score)"
   ]
  },
  {
   "cell_type": "markdown",
   "metadata": {},
   "source": [
    "# Сonclusions"
   ]
  },
  {
   "cell_type": "markdown",
   "metadata": {},
   "source": [
    "3 models were tested: LogisticRegression, lgb.LGBMClassifier, KNeighborsClassifier and 2 vectorization methods: CountVectorizer and TfidfVectorizer. On the considered parameters, the best F1 value on the test sample was achieved using LGBMClassifier and TfidfVectorizer (0.777815699658703)."
   ]
  }
 ],
 "metadata": {
  "ExecuteTimeLog": [
   {
    "duration": 6070,
    "start_time": "2021-08-01T14:32:14.325Z"
   },
   {
    "duration": 2649,
    "start_time": "2021-08-01T14:32:33.880Z"
   },
   {
    "duration": 988,
    "start_time": "2021-08-01T14:33:03.649Z"
   },
   {
    "duration": 952,
    "start_time": "2021-08-01T14:33:14.386Z"
   },
   {
    "duration": 37,
    "start_time": "2021-08-01T14:33:23.448Z"
   },
   {
    "duration": 45,
    "start_time": "2021-08-01T14:41:05.163Z"
   },
   {
    "duration": 168632,
    "start_time": "2021-08-01T14:41:34.885Z"
   },
   {
    "duration": 6496,
    "start_time": "2021-08-01T14:47:22.284Z"
   },
   {
    "duration": 795,
    "start_time": "2021-08-01T14:50:20.696Z"
   },
   {
    "duration": 5188,
    "start_time": "2021-08-01T14:50:34.395Z"
   },
   {
    "duration": 5882,
    "start_time": "2021-08-01T14:51:25.433Z"
   },
   {
    "duration": 5099,
    "start_time": "2021-08-01T14:51:42.239Z"
   },
   {
    "duration": 4849,
    "start_time": "2021-08-01T14:54:49.444Z"
   },
   {
    "duration": 5817,
    "start_time": "2021-08-01T14:55:08.460Z"
   },
   {
    "duration": 4,
    "start_time": "2021-08-01T15:00:04.140Z"
   },
   {
    "duration": 5093,
    "start_time": "2021-08-01T15:00:04.363Z"
   },
   {
    "duration": 697,
    "start_time": "2021-08-01T15:00:08.762Z"
   },
   {
    "duration": 4,
    "start_time": "2021-08-01T15:00:13.619Z"
   },
   {
    "duration": 810,
    "start_time": "2021-08-01T15:00:14.089Z"
   },
   {
    "duration": 56,
    "start_time": "2021-08-01T15:00:17.016Z"
   },
   {
    "duration": 7053,
    "start_time": "2021-08-01T15:04:31.910Z"
   },
   {
    "duration": 888,
    "start_time": "2021-08-01T15:04:38.966Z"
   },
   {
    "duration": 1005,
    "start_time": "2021-08-01T15:04:42.662Z"
   },
   {
    "duration": 29,
    "start_time": "2021-08-01T15:04:53.998Z"
   },
   {
    "duration": 1257,
    "start_time": "2021-08-01T15:05:06.125Z"
   },
   {
    "duration": 1501,
    "start_time": "2021-08-01T15:05:39.253Z"
   },
   {
    "duration": 1427,
    "start_time": "2021-08-01T15:05:46.004Z"
   },
   {
    "duration": 70901,
    "start_time": "2021-08-01T15:06:33.319Z"
   },
   {
    "duration": 339,
    "start_time": "2021-08-01T15:09:30.812Z"
   },
   {
    "duration": 958,
    "start_time": "2021-08-01T15:09:53.901Z"
   },
   {
    "duration": 329,
    "start_time": "2021-08-01T15:11:16.164Z"
   },
   {
    "duration": 1493,
    "start_time": "2021-08-01T15:11:33.426Z"
   },
   {
    "duration": 911,
    "start_time": "2021-08-01T15:11:38.966Z"
   },
   {
    "duration": 12,
    "start_time": "2021-08-01T15:13:28.739Z"
   },
   {
    "duration": 1350,
    "start_time": "2021-08-01T15:13:29.957Z"
   },
   {
    "duration": 6331,
    "start_time": "2021-08-01T15:13:32.737Z"
   },
   {
    "duration": 957,
    "start_time": "2021-08-01T15:13:41.443Z"
   },
   {
    "duration": 238,
    "start_time": "2021-08-01T15:20:04.738Z"
   },
   {
    "duration": 745,
    "start_time": "2021-08-01T15:20:05.586Z"
   },
   {
    "duration": 5,
    "start_time": "2021-08-01T15:34:42.027Z"
   },
   {
    "duration": 774,
    "start_time": "2021-08-01T15:34:42.585Z"
   },
   {
    "duration": 69,
    "start_time": "2021-08-01T15:34:44.809Z"
   },
   {
    "duration": 290,
    "start_time": "2021-08-01T15:34:47.365Z"
   },
   {
    "duration": 1477,
    "start_time": "2021-08-01T15:35:26.411Z"
   },
   {
    "duration": 814,
    "start_time": "2021-08-01T15:35:29.551Z"
   },
   {
    "duration": 67,
    "start_time": "2021-08-01T15:35:31.873Z"
   },
   {
    "duration": 3163,
    "start_time": "2021-08-01T15:35:34.127Z"
   },
   {
    "duration": 16646,
    "start_time": "2021-08-01T15:37:49.792Z"
   },
   {
    "duration": 718,
    "start_time": "2021-08-01T15:43:28.136Z"
   },
   {
    "duration": 10389,
    "start_time": "2021-08-01T15:43:38.362Z"
   },
   {
    "duration": 16909,
    "start_time": "2021-08-01T15:44:31.714Z"
   },
   {
    "duration": 10240,
    "start_time": "2021-08-01T15:44:58.659Z"
   },
   {
    "duration": 5,
    "start_time": "2021-08-01T15:45:13.642Z"
   },
   {
    "duration": 10047,
    "start_time": "2021-08-01T15:45:54.877Z"
   },
   {
    "duration": 5,
    "start_time": "2021-08-01T15:51:32.227Z"
   },
   {
    "duration": 722,
    "start_time": "2021-08-01T15:51:32.909Z"
   },
   {
    "duration": 101,
    "start_time": "2021-08-01T15:51:34.915Z"
   },
   {
    "duration": 1553,
    "start_time": "2021-08-01T15:51:50.182Z"
   },
   {
    "duration": 798,
    "start_time": "2021-08-01T15:51:52.679Z"
   },
   {
    "duration": 73,
    "start_time": "2021-08-01T15:51:54.606Z"
   },
   {
    "duration": 3261,
    "start_time": "2021-08-01T15:51:55.500Z"
   },
   {
    "duration": 16569,
    "start_time": "2021-08-01T15:51:58.763Z"
   },
   {
    "duration": 10019,
    "start_time": "2021-08-01T15:52:15.335Z"
   },
   {
    "duration": 439,
    "start_time": "2021-08-01T15:57:00.451Z"
   },
   {
    "duration": 106,
    "start_time": "2021-08-01T16:00:27.455Z"
   },
   {
    "duration": 6,
    "start_time": "2021-08-01T16:01:08.252Z"
   },
   {
    "duration": 82,
    "start_time": "2021-08-01T16:01:13.270Z"
   },
   {
    "duration": 1619,
    "start_time": "2021-08-01T16:01:20.265Z"
   },
   {
    "duration": 789,
    "start_time": "2021-08-01T16:01:21.887Z"
   },
   {
    "duration": 68,
    "start_time": "2021-08-01T16:01:24.029Z"
   },
   {
    "duration": 3271,
    "start_time": "2021-08-01T16:01:25.128Z"
   },
   {
    "duration": 16955,
    "start_time": "2021-08-01T16:01:29.642Z"
   },
   {
    "duration": 429,
    "start_time": "2021-08-01T16:01:53.062Z"
   },
   {
    "duration": 289,
    "start_time": "2021-08-01T16:03:37.449Z"
   },
   {
    "duration": 287,
    "start_time": "2021-08-01T16:04:40.990Z"
   },
   {
    "duration": 10029,
    "start_time": "2021-08-01T16:04:44.730Z"
   },
   {
    "duration": 286492,
    "start_time": "2021-08-01T16:48:48.562Z"
   },
   {
    "duration": 215,
    "start_time": "2021-08-02T12:36:00.772Z"
   },
   {
    "duration": 459,
    "start_time": "2021-08-02T12:36:11.534Z"
   },
   {
    "duration": 2615,
    "start_time": "2021-08-02T12:36:25.803Z"
   },
   {
    "duration": 11473,
    "start_time": "2021-08-02T12:36:30.634Z"
   },
   {
    "duration": 70,
    "start_time": "2021-08-02T12:37:44.939Z"
   },
   {
    "duration": 3035,
    "start_time": "2021-08-02T12:37:46.418Z"
   },
   {
    "duration": 16505,
    "start_time": "2021-08-02T12:37:50.713Z"
   },
   {
    "duration": 273,
    "start_time": "2021-08-02T12:38:13.200Z"
   },
   {
    "duration": 286653,
    "start_time": "2021-08-02T12:38:14.184Z"
   },
   {
    "duration": 470,
    "start_time": "2021-08-02T12:45:19.145Z"
   },
   {
    "duration": 327731,
    "start_time": "2021-08-02T12:48:45.803Z"
   },
   {
    "duration": 377,
    "start_time": "2021-08-02T12:56:19.635Z"
   },
   {
    "duration": 355,
    "start_time": "2021-08-02T12:56:28.888Z"
   },
   {
    "duration": 401,
    "start_time": "2021-08-02T12:56:54.134Z"
   },
   {
    "duration": 1757,
    "start_time": "2021-08-02T13:18:13.657Z"
   },
   {
    "duration": 13015,
    "start_time": "2021-08-02T13:18:15.417Z"
   },
   {
    "duration": 85,
    "start_time": "2021-08-02T13:18:28.440Z"
   },
   {
    "duration": 3101,
    "start_time": "2021-08-02T13:18:28.528Z"
   },
   {
    "duration": 16816,
    "start_time": "2021-08-02T13:18:31.631Z"
   },
   {
    "duration": 292,
    "start_time": "2021-08-02T13:18:48.450Z"
   },
   {
    "duration": 302233,
    "start_time": "2021-08-02T13:18:48.746Z"
   },
   {
    "duration": 1993,
    "start_time": "2021-08-02T13:29:27.428Z"
   },
   {
    "duration": 6,
    "start_time": "2021-08-02T13:41:40.999Z"
   },
   {
    "duration": 806,
    "start_time": "2021-08-02T13:41:42.424Z"
   },
   {
    "duration": 68,
    "start_time": "2021-08-02T13:41:44.455Z"
   },
   {
    "duration": 3573,
    "start_time": "2021-08-02T13:41:45.072Z"
   },
   {
    "duration": 1757,
    "start_time": "2021-08-02T13:41:59.805Z"
   },
   {
    "duration": 14355,
    "start_time": "2021-08-02T13:42:01.566Z"
   },
   {
    "duration": 88,
    "start_time": "2021-08-02T13:42:15.924Z"
   },
   {
    "duration": 3482,
    "start_time": "2021-08-02T13:42:16.015Z"
   },
   {
    "duration": 25413,
    "start_time": "2021-08-02T13:42:19.500Z"
   },
   {
    "duration": 10706,
    "start_time": "2021-08-02T13:44:20.452Z"
   },
   {
    "duration": 518,
    "start_time": "2021-08-02T13:44:51.421Z"
   },
   {
    "duration": 275,
    "start_time": "2021-08-02T13:45:47.940Z"
   },
   {
    "duration": 10,
    "start_time": "2021-08-02T13:56:05.295Z"
   },
   {
    "duration": 796,
    "start_time": "2021-08-02T13:56:06.164Z"
   },
   {
    "duration": 159,
    "start_time": "2021-08-02T13:56:08.649Z"
   },
   {
    "duration": 485,
    "start_time": "2021-08-02T13:56:22.017Z"
   },
   {
    "duration": 1863,
    "start_time": "2021-08-02T13:56:26.036Z"
   },
   {
    "duration": 9705,
    "start_time": "2021-08-02T13:56:27.901Z"
   },
   {
    "duration": 84,
    "start_time": "2021-08-02T13:56:37.609Z"
   },
   {
    "duration": 3297,
    "start_time": "2021-08-02T13:56:47.572Z"
   },
   {
    "duration": 16496,
    "start_time": "2021-08-02T13:56:53.191Z"
   },
   {
    "duration": 307,
    "start_time": "2021-08-02T13:58:47.164Z"
   },
   {
    "duration": 302,
    "start_time": "2021-08-02T13:58:49.728Z"
   },
   {
    "duration": 1612,
    "start_time": "2021-08-02T14:03:39.647Z"
   },
   {
    "duration": 761,
    "start_time": "2021-08-02T14:03:41.262Z"
   },
   {
    "duration": 80,
    "start_time": "2021-08-02T14:03:42.030Z"
   },
   {
    "duration": 3190,
    "start_time": "2021-08-02T14:03:42.113Z"
   },
   {
    "duration": 15938,
    "start_time": "2021-08-02T14:03:45.305Z"
   },
   {
    "duration": 310,
    "start_time": "2021-08-02T14:04:01.246Z"
   },
   {
    "duration": 10079,
    "start_time": "2021-08-02T14:04:01.562Z"
   },
   {
    "duration": 288286,
    "start_time": "2021-08-02T14:04:11.656Z"
   },
   {
    "duration": 321655,
    "start_time": "2021-08-02T14:08:59.956Z"
   },
   {
    "duration": 432,
    "start_time": "2021-08-02T14:14:21.613Z"
   },
   {
    "duration": 340736,
    "start_time": "2021-08-02T14:14:22.048Z"
   },
   {
    "duration": 448,
    "start_time": "2021-08-02T14:20:02.786Z"
   },
   {
    "duration": 3,
    "start_time": "2021-08-02T14:20:03.236Z"
   },
   {
    "duration": 16,
    "start_time": "2021-08-02T14:20:03.242Z"
   },
   {
    "duration": 1721,
    "start_time": "2021-08-02T14:32:01.309Z"
   },
   {
    "duration": 815,
    "start_time": "2021-08-02T14:32:03.753Z"
   },
   {
    "duration": 75,
    "start_time": "2021-08-02T14:32:05.236Z"
   },
   {
    "duration": 3190,
    "start_time": "2021-08-02T14:32:05.560Z"
   },
   {
    "duration": 21447,
    "start_time": "2021-08-02T14:32:08.752Z"
   },
   {
    "duration": 395,
    "start_time": "2021-08-02T14:32:30.202Z"
   },
   {
    "duration": 1654,
    "start_time": "2021-08-02T14:32:58.297Z"
   },
   {
    "duration": 1086,
    "start_time": "2021-08-02T14:32:59.954Z"
   },
   {
    "duration": 6,
    "start_time": "2021-08-02T14:34:52.600Z"
   },
   {
    "duration": 827,
    "start_time": "2021-08-02T14:34:53.245Z"
   },
   {
    "duration": 77,
    "start_time": "2021-08-02T14:34:55.752Z"
   },
   {
    "duration": 3247,
    "start_time": "2021-08-02T14:34:56.208Z"
   },
   {
    "duration": 16578,
    "start_time": "2021-08-02T14:34:59.459Z"
   },
   {
    "duration": 294,
    "start_time": "2021-08-02T14:35:23.315Z"
   },
   {
    "duration": 401,
    "start_time": "2021-08-02T14:36:11.663Z"
   },
   {
    "duration": 1864,
    "start_time": "2021-08-02T14:36:27.483Z"
   },
   {
    "duration": 927,
    "start_time": "2021-08-02T14:36:30.315Z"
   },
   {
    "duration": 69,
    "start_time": "2021-08-02T14:36:32.751Z"
   },
   {
    "duration": 3163,
    "start_time": "2021-08-02T14:36:33.458Z"
   },
   {
    "duration": 16615,
    "start_time": "2021-08-02T14:42:25.571Z"
   },
   {
    "duration": 284,
    "start_time": "2021-08-02T14:42:59.766Z"
   },
   {
    "duration": 1900,
    "start_time": "2021-08-02T14:43:53.823Z"
   },
   {
    "duration": 1437,
    "start_time": "2021-08-02T14:43:56.619Z"
   },
   {
    "duration": 75,
    "start_time": "2021-08-02T14:43:58.809Z"
   },
   {
    "duration": 3344,
    "start_time": "2021-08-02T14:44:01.093Z"
   },
   {
    "duration": 16374,
    "start_time": "2021-08-02T14:44:06.330Z"
   },
   {
    "duration": 287,
    "start_time": "2021-08-02T14:44:26.600Z"
   },
   {
    "duration": 446,
    "start_time": "2021-08-02T16:20:56.108Z"
   },
   {
    "duration": 560,
    "start_time": "2021-08-02T16:21:07.953Z"
   },
   {
    "duration": 1690,
    "start_time": "2021-08-02T16:21:11.584Z"
   },
   {
    "duration": 801,
    "start_time": "2021-08-02T16:21:13.277Z"
   },
   {
    "duration": 19,
    "start_time": "2021-08-02T16:21:15.360Z"
   },
   {
    "duration": 5,
    "start_time": "2021-08-02T16:24:59.948Z"
   },
   {
    "duration": 1892,
    "start_time": "2021-08-02T16:25:49.068Z"
   },
   {
    "duration": 6,
    "start_time": "2021-08-02T16:26:14.200Z"
   },
   {
    "duration": 177084,
    "start_time": "2021-08-02T16:26:17.455Z"
   },
   {
    "duration": 14,
    "start_time": "2021-08-02T16:32:57.590Z"
   },
   {
    "duration": 6,
    "start_time": "2021-08-02T16:33:13.965Z"
   },
   {
    "duration": 804,
    "start_time": "2021-08-02T16:33:15.048Z"
   },
   {
    "duration": 9,
    "start_time": "2021-08-02T16:33:19.056Z"
   },
   {
    "duration": 10,
    "start_time": "2021-08-02T16:33:20.748Z"
   },
   {
    "duration": 16658,
    "start_time": "2021-08-02T16:33:43.222Z"
   },
   {
    "duration": 5,
    "start_time": "2021-08-02T16:34:16.519Z"
   },
   {
    "duration": 9568,
    "start_time": "2021-08-02T16:34:24.765Z"
   },
   {
    "duration": 16,
    "start_time": "2021-08-02T16:34:46.269Z"
   },
   {
    "duration": 165848,
    "start_time": "2021-08-02T16:34:54.740Z"
   },
   {
    "duration": 6,
    "start_time": "2021-08-02T16:37:53.959Z"
   },
   {
    "duration": 4,
    "start_time": "2021-08-02T16:39:34.335Z"
   },
   {
    "duration": 11576,
    "start_time": "2021-08-02T17:04:42.726Z"
   },
   {
    "duration": 839,
    "start_time": "2021-08-02T17:05:10.743Z"
   },
   {
    "duration": 4,
    "start_time": "2021-08-02T17:05:15.209Z"
   },
   {
    "duration": 2281,
    "start_time": "2021-08-02T17:05:23.013Z"
   },
   {
    "duration": 11,
    "start_time": "2021-08-02T17:05:59.529Z"
   },
   {
    "duration": 819,
    "start_time": "2021-08-02T17:06:01.521Z"
   },
   {
    "duration": 4,
    "start_time": "2021-08-02T17:06:05.358Z"
   },
   {
    "duration": 76535125,
    "start_time": "2021-08-02T17:06:08.004Z"
   },
   {
    "duration": 413,
    "start_time": "2021-08-03T14:21:42.719Z"
   },
   {
    "duration": 7665,
    "start_time": "2021-08-03T14:41:49.894Z"
   },
   {
    "duration": 868,
    "start_time": "2021-08-03T14:41:57.562Z"
   },
   {
    "duration": 28,
    "start_time": "2021-08-03T14:41:58.433Z"
   },
   {
    "duration": 10855,
    "start_time": "2021-08-03T14:41:58.465Z"
   },
   {
    "duration": 102,
    "start_time": "2021-08-03T14:42:09.322Z"
   },
   {
    "duration": 2803,
    "start_time": "2021-08-03T14:42:09.426Z"
   },
   {
    "duration": 22332,
    "start_time": "2021-08-03T14:42:12.232Z"
   },
   {
    "duration": 4,
    "start_time": "2021-08-03T14:42:34.568Z"
   },
   {
    "duration": 12020,
    "start_time": "2021-08-03T14:44:01.315Z"
   },
   {
    "duration": 770,
    "start_time": "2021-08-03T14:44:13.338Z"
   },
   {
    "duration": 42,
    "start_time": "2021-08-03T14:44:14.114Z"
   },
   {
    "duration": 10886,
    "start_time": "2021-08-03T14:44:14.158Z"
   },
   {
    "duration": 92,
    "start_time": "2021-08-03T14:44:25.046Z"
   },
   {
    "duration": 2795,
    "start_time": "2021-08-03T14:44:25.142Z"
   },
   {
    "duration": 13991,
    "start_time": "2021-08-03T14:44:27.941Z"
   },
   {
    "duration": 2,
    "start_time": "2021-08-03T14:44:41.935Z"
   },
   {
    "duration": 383,
    "start_time": "2021-08-26T10:50:07.906Z"
   },
   {
    "duration": 1734,
    "start_time": "2021-08-26T10:50:14.279Z"
   },
   {
    "duration": 1814,
    "start_time": "2021-08-26T11:22:16.822Z"
   },
   {
    "duration": 19,
    "start_time": "2021-08-26T11:22:18.833Z"
   },
   {
    "duration": 132271,
    "start_time": "2021-08-26T11:22:24.546Z"
   },
   {
    "duration": 44,
    "start_time": "2021-08-26T11:24:40.973Z"
   },
   {
    "duration": 298,
    "start_time": "2021-08-26T11:24:46.149Z"
   },
   {
    "duration": 283,
    "start_time": "2021-08-26T11:25:00.291Z"
   }
  ],
  "kernelspec": {
   "display_name": "Python 3",
   "language": "python",
   "name": "python3"
  },
  "language_info": {
   "codemirror_mode": {
    "name": "ipython",
    "version": 3
   },
   "file_extension": ".py",
   "mimetype": "text/x-python",
   "name": "python",
   "nbconvert_exporter": "python",
   "pygments_lexer": "ipython3",
   "version": "3.8.8"
  },
  "toc": {
   "base_numbering": 1,
   "nav_menu": {},
   "number_sections": true,
   "sideBar": true,
   "skip_h1_title": true,
   "title_cell": "Содержание",
   "title_sidebar": "Contents",
   "toc_cell": true,
   "toc_position": {
    "height": "calc(100% - 180px)",
    "left": "10px",
    "top": "150px",
    "width": "302.391px"
   },
   "toc_section_display": true,
   "toc_window_display": false
  }
 },
 "nbformat": 4,
 "nbformat_minor": 4
}
